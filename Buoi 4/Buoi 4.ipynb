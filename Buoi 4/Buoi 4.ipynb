{
 "cells": [
  {
   "cell_type": "code",
   "execution_count": 1,
   "metadata": {},
   "outputs": [
    {
     "name": "stderr",
     "output_type": "stream",
     "text": [
      "C:\\Spark\\spark-3.4.0-bin-hadoop3\\python\\pyspark\\pandas\\__init__.py:50: UserWarning: 'PYARROW_IGNORE_TIMEZONE' environment variable was not set. It is required to set this environment variable to '1' in both driver and executor sides if you use pyarrow>=2.0.0. pandas-on-Spark will set it for you but it does not work if there is a Spark context already launched.\n",
      "  warnings.warn(\n"
     ]
    }
   ],
   "source": [
    "import findspark\n",
    "findspark.init()\n",
    "\n",
    "import pyspark\n",
    "import pandas as pd\n",
    "import numpy as np\n",
    "from pyspark.context import SparkContext\n",
    "from pyspark.sql import SparkSession\n",
    "from pyspark.sql.functions import *\n",
    "from pyspark.pandas import *"
   ]
  },
  {
   "cell_type": "code",
   "execution_count": 2,
   "metadata": {},
   "outputs": [],
   "source": [
    "spark = SparkSession.builder.config(\"spark.driver.memory\", \"8g\").getOrCreate()"
   ]
  },
  {
   "cell_type": "code",
   "execution_count": 3,
   "metadata": {},
   "outputs": [],
   "source": [
    "df = spark.read.json(path= r'C:\\\\Users\\\\ADMIN\\\\PycharmProjects\\\\Bigdata-1\\\\Data\\\\Dataset\\\\log_content\\\\20220401.json')"
   ]
  },
  {
   "cell_type": "code",
   "execution_count": 4,
   "metadata": {},
   "outputs": [
    {
     "name": "stdout",
     "output_type": "stream",
     "text": [
      "root\n",
      " |-- _id: string (nullable = true)\n",
      " |-- _index: string (nullable = true)\n",
      " |-- _score: long (nullable = true)\n",
      " |-- _source: struct (nullable = true)\n",
      " |    |-- AppName: string (nullable = true)\n",
      " |    |-- Contract: string (nullable = true)\n",
      " |    |-- Mac: string (nullable = true)\n",
      " |    |-- TotalDuration: long (nullable = true)\n",
      " |-- _type: string (nullable = true)\n",
      "\n"
     ]
    }
   ],
   "source": [
    "df.printSchema()"
   ]
  },
  {
   "cell_type": "code",
   "execution_count": 5,
   "metadata": {},
   "outputs": [
    {
     "name": "stdout",
     "output_type": "stream",
     "text": [
      "+-------+---------+------------+-------------+\n",
      "|AppName| Contract|         Mac|TotalDuration|\n",
      "+-------+---------+------------+-------------+\n",
      "|  KPLUS|HNH579912|0C96E62FC55C|          254|\n",
      "|  KPLUS|HUFD40665|CCEDDC333614|         1457|\n",
      "|  KPLUS|HNH572635|B068E6A1C5F6|         2318|\n",
      "|  KPLUS|HND141717|08674EE8D2C2|         1452|\n",
      "|  KPLUS|HNH743103|402343C25D7D|          251|\n",
      "|  KPLUS|HNH893773|B84DEE76D3B8|          924|\n",
      "|  KPLUS|HND083642|B84DEE849A0F|         1444|\n",
      "|  KPLUS|DNFD74404|90324BB44C39|          691|\n",
      "|  KPLUS|DTFD21200|B84DEED27709|         1436|\n",
      "|  KPLUS|LDFD05747|0C96E6C95E53|         1434|\n",
      "+-------+---------+------------+-------------+\n",
      "only showing top 10 rows\n",
      "\n"
     ]
    }
   ],
   "source": [
    "df = df.select('_source.*')\n",
    "df.show(10)"
   ]
  },
  {
   "cell_type": "code",
   "execution_count": 6,
   "metadata": {},
   "outputs": [
    {
     "name": "stdout",
     "output_type": "stream",
     "text": [
      "+-------+-------+\n",
      "|AppName|  count|\n",
      "+-------+-------+\n",
      "|   FIMS|   1007|\n",
      "|  SPORT|   2298|\n",
      "|  RELAX|   6445|\n",
      "|  KPLUS|  20158|\n",
      "|  CHILD|  33723|\n",
      "|    VOD|  88033|\n",
      "|CHANNEL|1502855|\n",
      "+-------+-------+\n",
      "\n"
     ]
    }
   ],
   "source": [
    "df.groupBy('AppName').count().orderBy('count', ascending= True).show(10)"
   ]
  },
  {
   "cell_type": "code",
   "execution_count": 7,
   "metadata": {},
   "outputs": [],
   "source": [
    "df = df.withColumn(\"Type\",when((col(\"AppName\") == 'CHANNEL') | (col(\"AppName\") =='DSHD')| (col(\"AppName\") =='KPLUS')| (col(\"AppName\") =='KPlus'), \"Truyền Hình\")\n",
    "    .when((col(\"AppName\") == 'VOD') | (col(\"AppName\") =='FIMS_RES')| (col(\"AppName\") =='BHD_RES')| \n",
    "            (col(\"AppName\") =='VOD_RES')| (col(\"AppName\") =='FIMS')| (col(\"AppName\") =='BHD')| (col(\"AppName\") =='DANET'), \"Phim Truyện\")\n",
    "    .when((col(\"AppName\") == 'RELAX'), \"Giải Trí\")\n",
    "    .when((col(\"AppName\") == 'CHILD'), \"Thiếu Nhi\")\n",
    "    .when((col(\"AppName\") == 'SPORT'), \"Thể Thao\")\n",
    "    .otherwise(\"Error\"))"
   ]
  },
  {
   "cell_type": "code",
   "execution_count": 8,
   "metadata": {},
   "outputs": [
    {
     "name": "stdout",
     "output_type": "stream",
     "text": [
      "+-------+---------+------------+-------------+-----------+\n",
      "|AppName| Contract|         Mac|TotalDuration|       Type|\n",
      "+-------+---------+------------+-------------+-----------+\n",
      "|  KPLUS|HNH579912|0C96E62FC55C|          254|Truyền Hình|\n",
      "|  KPLUS|HUFD40665|CCEDDC333614|         1457|Truyền Hình|\n",
      "|  KPLUS|HNH572635|B068E6A1C5F6|         2318|Truyền Hình|\n",
      "|  KPLUS|HND141717|08674EE8D2C2|         1452|Truyền Hình|\n",
      "|  KPLUS|HNH743103|402343C25D7D|          251|Truyền Hình|\n",
      "|  KPLUS|HNH893773|B84DEE76D3B8|          924|Truyền Hình|\n",
      "|  KPLUS|HND083642|B84DEE849A0F|         1444|Truyền Hình|\n",
      "|  KPLUS|DNFD74404|90324BB44C39|          691|Truyền Hình|\n",
      "|  KPLUS|DTFD21200|B84DEED27709|         1436|Truyền Hình|\n",
      "|  KPLUS|LDFD05747|0C96E6C95E53|         1434|Truyền Hình|\n",
      "+-------+---------+------------+-------------+-----------+\n",
      "only showing top 10 rows\n",
      "\n"
     ]
    }
   ],
   "source": [
    "df.show(10)"
   ]
  },
  {
   "cell_type": "code",
   "execution_count": 9,
   "metadata": {},
   "outputs": [
    {
     "name": "stdout",
     "output_type": "stream",
     "text": [
      "+---------+-----------+-------------+\n",
      "| Contract|       Type|TotalDuration|\n",
      "+---------+-----------+-------------+\n",
      "|HNH579912|Truyền Hình|          254|\n",
      "|HUFD40665|Truyền Hình|         1457|\n",
      "|HNH572635|Truyền Hình|         2318|\n",
      "|HND141717|Truyền Hình|         1452|\n",
      "|HNH743103|Truyền Hình|          251|\n",
      "|HNH893773|Truyền Hình|          924|\n",
      "|HND083642|Truyền Hình|         1444|\n",
      "|DNFD74404|Truyền Hình|          691|\n",
      "|DTFD21200|Truyền Hình|         1436|\n",
      "|LDFD05747|Truyền Hình|         1434|\n",
      "+---------+-----------+-------------+\n",
      "only showing top 10 rows\n",
      "\n"
     ]
    }
   ],
   "source": [
    "df = df.select('Contract', 'Type', 'TotalDuration')\n",
    "df.show(10)"
   ]
  },
  {
   "cell_type": "code",
   "execution_count": 10,
   "metadata": {},
   "outputs": [],
   "source": [
    "df = df.filter(df['Contract'] != '0')"
   ]
  },
  {
   "cell_type": "code",
   "execution_count": 11,
   "metadata": {},
   "outputs": [
    {
     "data": {
      "text/plain": [
       "1360621"
      ]
     },
     "execution_count": 11,
     "metadata": {},
     "output_type": "execute_result"
    }
   ],
   "source": [
    "df.groupBy('Contract').pivot('Type').sum('TotalDuration').count()"
   ]
  },
  {
   "cell_type": "code",
   "execution_count": 12,
   "metadata": {},
   "outputs": [
    {
     "data": {
      "text/plain": [
       "1483420"
      ]
     },
     "execution_count": 12,
     "metadata": {},
     "output_type": "execute_result"
    }
   ],
   "source": [
    "df.groupBy('Contract', 'Type').pivot('Type').sum('TotalDuration').count()"
   ]
  },
  {
   "cell_type": "code",
   "execution_count": 13,
   "metadata": {},
   "outputs": [
    {
     "name": "stdout",
     "output_type": "stream",
     "text": [
      "+---------+-----------+--------+-----------+---------+--------+-----------+\n",
      "| Contract|       Type|Giải Trí|Phim Truyện|Thiếu Nhi|Thể Thao|Truyền Hình|\n",
      "+---------+-----------+--------+-----------+---------+--------+-----------+\n",
      "|DNH014998|Phim Truyện|    null|       3365|     null|    null|       null|\n",
      "|HND486882|Phim Truyện|    null|       5545|     null|    null|       null|\n",
      "|HUFD07189|Truyền Hình|    null|       null|     null|    null|       2264|\n",
      "|HDFD36288|Truyền Hình|    null|       null|     null|    null|      11904|\n",
      "|CTFD04401|Truyền Hình|    null|       null|     null|    null|      55881|\n",
      "|HNH954607|Phim Truyện|    null|      13115|     null|    null|       null|\n",
      "|HNH855959|Truyền Hình|    null|       null|     null|    null|        327|\n",
      "|SGH034683|Truyền Hình|    null|       null|     null|    null|      82195|\n",
      "|NTFD35330|Truyền Hình|    null|       null|     null|    null|      19139|\n",
      "|NTFD48198|Phim Truyện|    null|      55202|     null|    null|       null|\n",
      "+---------+-----------+--------+-----------+---------+--------+-----------+\n",
      "only showing top 10 rows\n",
      "\n"
     ]
    }
   ],
   "source": [
    "result = df.groupBy('Contract', 'Type').pivot('Type').sum('TotalDuration')\n",
    "result.show(10)"
   ]
  },
  {
   "cell_type": "code",
   "execution_count": 14,
   "metadata": {},
   "outputs": [
    {
     "name": "stdout",
     "output_type": "stream",
     "text": [
      "+---------+-----------+--------+-----------+---------+--------+-----------+---------+\n",
      "| Contract|       Type|Giải Trí|Phim Truyện|Thiếu Nhi|Thể Thao|Truyền Hình|     Date|\n",
      "+---------+-----------+--------+-----------+---------+--------+-----------+---------+\n",
      "|DNH014998|Phim Truyện|    null|       3365|     null|    null|       null|2022-04-1|\n",
      "|HND486882|Phim Truyện|    null|       5545|     null|    null|       null|2022-04-1|\n",
      "|HUFD07189|Truyền Hình|    null|       null|     null|    null|       2264|2022-04-1|\n",
      "|HDFD36288|Truyền Hình|    null|       null|     null|    null|      11904|2022-04-1|\n",
      "|CTFD04401|Truyền Hình|    null|       null|     null|    null|      55881|2022-04-1|\n",
      "|HNH954607|Phim Truyện|    null|      13115|     null|    null|       null|2022-04-1|\n",
      "|HNH855959|Truyền Hình|    null|       null|     null|    null|        327|2022-04-1|\n",
      "|SGH034683|Truyền Hình|    null|       null|     null|    null|      82195|2022-04-1|\n",
      "|NTFD35330|Truyền Hình|    null|       null|     null|    null|      19139|2022-04-1|\n",
      "|NTFD48198|Phim Truyện|    null|      55202|     null|    null|       null|2022-04-1|\n",
      "+---------+-----------+--------+-----------+---------+--------+-----------+---------+\n",
      "only showing top 10 rows\n",
      "\n"
     ]
    }
   ],
   "source": [
    "result = result.withColumn('Date', lit('2022-04-1'))\n",
    "result.show(10)"
   ]
  },
  {
   "cell_type": "code",
   "execution_count": 15,
   "metadata": {},
   "outputs": [],
   "source": [
    "# save_path = r\"C:\\Users\\ADMIN\\PycharmProjects\\Bigdata-1\\Data\\Dataset\\Clean_data\"\n",
    "# result.repartition(1).write.option(\"option_name\", \"20220401\").mode(\"overwrite\").csv(save_path, header=True)"
   ]
  },
  {
   "cell_type": "code",
   "execution_count": 16,
   "metadata": {},
   "outputs": [
    {
     "data": {
      "text/html": [
       "<div>\n",
       "<style scoped>\n",
       "    .dataframe tbody tr th:only-of-type {\n",
       "        vertical-align: middle;\n",
       "    }\n",
       "\n",
       "    .dataframe tbody tr th {\n",
       "        vertical-align: top;\n",
       "    }\n",
       "\n",
       "    .dataframe thead th {\n",
       "        text-align: right;\n",
       "    }\n",
       "</style>\n",
       "<table border=\"1\" class=\"dataframe\">\n",
       "  <thead>\n",
       "    <tr style=\"text-align: right;\">\n",
       "      <th></th>\n",
       "      <th>Contract</th>\n",
       "      <th>Type</th>\n",
       "      <th>Giải Trí</th>\n",
       "      <th>Phim Truyện</th>\n",
       "      <th>Thiếu Nhi</th>\n",
       "      <th>Thể Thao</th>\n",
       "      <th>Truyền Hình</th>\n",
       "      <th>Date</th>\n",
       "    </tr>\n",
       "  </thead>\n",
       "  <tbody>\n",
       "    <tr>\n",
       "      <th>0</th>\n",
       "      <td>DNH014998</td>\n",
       "      <td>Phim Truyện</td>\n",
       "      <td>NaN</td>\n",
       "      <td>3365.0</td>\n",
       "      <td>NaN</td>\n",
       "      <td>NaN</td>\n",
       "      <td>NaN</td>\n",
       "      <td>2022-04-1</td>\n",
       "    </tr>\n",
       "    <tr>\n",
       "      <th>1</th>\n",
       "      <td>HND486882</td>\n",
       "      <td>Phim Truyện</td>\n",
       "      <td>NaN</td>\n",
       "      <td>5545.0</td>\n",
       "      <td>NaN</td>\n",
       "      <td>NaN</td>\n",
       "      <td>NaN</td>\n",
       "      <td>2022-04-1</td>\n",
       "    </tr>\n",
       "    <tr>\n",
       "      <th>2</th>\n",
       "      <td>HUFD07189</td>\n",
       "      <td>Truyền Hình</td>\n",
       "      <td>NaN</td>\n",
       "      <td>NaN</td>\n",
       "      <td>NaN</td>\n",
       "      <td>NaN</td>\n",
       "      <td>2264.0</td>\n",
       "      <td>2022-04-1</td>\n",
       "    </tr>\n",
       "    <tr>\n",
       "      <th>3</th>\n",
       "      <td>HDFD36288</td>\n",
       "      <td>Truyền Hình</td>\n",
       "      <td>NaN</td>\n",
       "      <td>NaN</td>\n",
       "      <td>NaN</td>\n",
       "      <td>NaN</td>\n",
       "      <td>11904.0</td>\n",
       "      <td>2022-04-1</td>\n",
       "    </tr>\n",
       "    <tr>\n",
       "      <th>4</th>\n",
       "      <td>CTFD04401</td>\n",
       "      <td>Truyền Hình</td>\n",
       "      <td>NaN</td>\n",
       "      <td>NaN</td>\n",
       "      <td>NaN</td>\n",
       "      <td>NaN</td>\n",
       "      <td>55881.0</td>\n",
       "      <td>2022-04-1</td>\n",
       "    </tr>\n",
       "    <tr>\n",
       "      <th>...</th>\n",
       "      <td>...</td>\n",
       "      <td>...</td>\n",
       "      <td>...</td>\n",
       "      <td>...</td>\n",
       "      <td>...</td>\n",
       "      <td>...</td>\n",
       "      <td>...</td>\n",
       "      <td>...</td>\n",
       "    </tr>\n",
       "    <tr>\n",
       "      <th>1483415</th>\n",
       "      <td>DNFD64591</td>\n",
       "      <td>Truyền Hình</td>\n",
       "      <td>NaN</td>\n",
       "      <td>NaN</td>\n",
       "      <td>NaN</td>\n",
       "      <td>NaN</td>\n",
       "      <td>14.0</td>\n",
       "      <td>2022-04-1</td>\n",
       "    </tr>\n",
       "    <tr>\n",
       "      <th>1483416</th>\n",
       "      <td>BDFD10096</td>\n",
       "      <td>Truyền Hình</td>\n",
       "      <td>NaN</td>\n",
       "      <td>NaN</td>\n",
       "      <td>NaN</td>\n",
       "      <td>NaN</td>\n",
       "      <td>15287.0</td>\n",
       "      <td>2022-04-1</td>\n",
       "    </tr>\n",
       "    <tr>\n",
       "      <th>1483417</th>\n",
       "      <td>THFD16458</td>\n",
       "      <td>Truyền Hình</td>\n",
       "      <td>NaN</td>\n",
       "      <td>NaN</td>\n",
       "      <td>NaN</td>\n",
       "      <td>NaN</td>\n",
       "      <td>22671.0</td>\n",
       "      <td>2022-04-1</td>\n",
       "    </tr>\n",
       "    <tr>\n",
       "      <th>1483418</th>\n",
       "      <td>HNH766004</td>\n",
       "      <td>Truyền Hình</td>\n",
       "      <td>NaN</td>\n",
       "      <td>NaN</td>\n",
       "      <td>NaN</td>\n",
       "      <td>NaN</td>\n",
       "      <td>22468.0</td>\n",
       "      <td>2022-04-1</td>\n",
       "    </tr>\n",
       "    <tr>\n",
       "      <th>1483419</th>\n",
       "      <td>BTD027610</td>\n",
       "      <td>Truyền Hình</td>\n",
       "      <td>NaN</td>\n",
       "      <td>NaN</td>\n",
       "      <td>NaN</td>\n",
       "      <td>NaN</td>\n",
       "      <td>22331.0</td>\n",
       "      <td>2022-04-1</td>\n",
       "    </tr>\n",
       "  </tbody>\n",
       "</table>\n",
       "<p>1483420 rows × 8 columns</p>\n",
       "</div>"
      ],
      "text/plain": [
       "          Contract         Type  Giải Trí  Phim Truyện  Thiếu Nhi  Thể Thao  \\\n",
       "0        DNH014998  Phim Truyện       NaN       3365.0        NaN       NaN   \n",
       "1        HND486882  Phim Truyện       NaN       5545.0        NaN       NaN   \n",
       "2        HUFD07189  Truyền Hình       NaN          NaN        NaN       NaN   \n",
       "3        HDFD36288  Truyền Hình       NaN          NaN        NaN       NaN   \n",
       "4        CTFD04401  Truyền Hình       NaN          NaN        NaN       NaN   \n",
       "...            ...          ...       ...          ...        ...       ...   \n",
       "1483415  DNFD64591  Truyền Hình       NaN          NaN        NaN       NaN   \n",
       "1483416  BDFD10096  Truyền Hình       NaN          NaN        NaN       NaN   \n",
       "1483417  THFD16458  Truyền Hình       NaN          NaN        NaN       NaN   \n",
       "1483418  HNH766004  Truyền Hình       NaN          NaN        NaN       NaN   \n",
       "1483419  BTD027610  Truyền Hình       NaN          NaN        NaN       NaN   \n",
       "\n",
       "         Truyền Hình       Date  \n",
       "0                NaN  2022-04-1  \n",
       "1                NaN  2022-04-1  \n",
       "2             2264.0  2022-04-1  \n",
       "3            11904.0  2022-04-1  \n",
       "4            55881.0  2022-04-1  \n",
       "...              ...        ...  \n",
       "1483415         14.0  2022-04-1  \n",
       "1483416      15287.0  2022-04-1  \n",
       "1483417      22671.0  2022-04-1  \n",
       "1483418      22468.0  2022-04-1  \n",
       "1483419      22331.0  2022-04-1  \n",
       "\n",
       "[1483420 rows x 8 columns]"
      ]
     },
     "execution_count": 16,
     "metadata": {},
     "output_type": "execute_result"
    }
   ],
   "source": [
    "result_df = result.select(\"*\").toPandas()\n",
    "result_df"
   ]
  },
  {
   "cell_type": "code",
   "execution_count": 17,
   "metadata": {},
   "outputs": [],
   "source": [
    "file_name = '20220401'\n",
    "save_path = r\"C:\\\\Users\\\\ADMIN\\\\PycharmProjects\\\\Bigdata-1\\\\Data\\Dataset\\\\Clean_data\\\\\"\n",
    "result_df.to_csv(save_path + file_name + '.csv', index=False)"
   ]
  },
  {
   "cell_type": "code",
   "execution_count": null,
   "metadata": {},
   "outputs": [],
   "source": [
    "df = spark.createDataFrame([(1, 4, 3),\n",
    "                            (4, None, 6)], ['a', 'b', 'c'])\n",
    "df.show()"
   ]
  },
  {
   "cell_type": "code",
   "execution_count": null,
   "metadata": {},
   "outputs": [],
   "source": [
    "from pyspark.sql import functions as F\n",
    "from pyspark.sql.types import IntegerType\n",
    "\n",
    "df.select([F.isnull(df[col]) for col in df.columns]).show(10)"
   ]
  },
  {
   "cell_type": "code",
   "execution_count": null,
   "metadata": {},
   "outputs": [],
   "source": [
    "missing_column_names = array(*[when(col(c).isNotNull(),lit(c)) for c in df.columns[:3]])\n",
    "df = df.withColumn(\"missing_columns\", missing_column_names)\n",
    "df.show()"
   ]
  },
  {
   "cell_type": "code",
   "execution_count": null,
   "metadata": {},
   "outputs": [],
   "source": [
    "df.withColumn(\"audit\", array(*[when(col(c).isNull(), lit(c)) for c in df.columns[:3]]))\\\n",
    ".withColumn(\"audit\", expr(\"filter(audit, x -> x is not null)\"))\\\n",
    ".show()"
   ]
  }
 ],
 "metadata": {
  "kernelspec": {
   "display_name": "base",
   "language": "python",
   "name": "python3"
  },
  "language_info": {
   "codemirror_mode": {
    "name": "ipython",
    "version": 3
   },
   "file_extension": ".py",
   "mimetype": "text/x-python",
   "name": "python",
   "nbconvert_exporter": "python",
   "pygments_lexer": "ipython3",
   "version": "3.10.9"
  },
  "orig_nbformat": 4
 },
 "nbformat": 4,
 "nbformat_minor": 2
}
