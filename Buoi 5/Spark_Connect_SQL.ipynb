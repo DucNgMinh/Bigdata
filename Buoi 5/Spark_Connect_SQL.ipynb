{
 "cells": [
  {
   "cell_type": "code",
   "execution_count": 3,
   "metadata": {},
   "outputs": [],
   "source": [
    "from pyspark.sql import SparkSession\n",
    "from pyspark.sql import SQLContext\n",
    "from pyspark.sql.functions import when\n",
    "from pyspark.sql.functions import col\n",
    "from pyspark.sql.types import * \n",
    "from pyspark.sql.functions import lit\n",
    "import pyodbc\n",
    "import pandas as pd\n",
    "import pyspark.sql.functions as sf\n"
   ]
  },
  {
   "cell_type": "code",
   "execution_count": 4,
   "metadata": {},
   "outputs": [],
   "source": [
    "spark = SparkSession.builder.config(\"spark.driver.memory\", \"15g\").config('spark.jars.packages','com.microsoft.azure:spark-mssql-connector:1.0.2').getOrCreate()"
   ]
  },
  {
   "cell_type": "code",
   "execution_count": 7,
   "metadata": {},
   "outputs": [],
   "source": [
    "url = 'jdbc:mysql://' + 'localhost' + ':' + '3306' + '/' + 'data_engineer'\n",
    "driver = \"com.mysql.cj.jdbc.Driver\"\n",
    "user = 'root'\n",
    "password = ''\n",
    "sql = '(select * from customer_behaviour) A'\n",
    "df = spark.read.format('jdbc').options(url = url , driver = driver , dbtable = sql , user=user , password = password).load()"
   ]
  },
  {
   "cell_type": "code",
   "execution_count": 8,
   "metadata": {},
   "outputs": [
    {
     "name": "stdout",
     "output_type": "stream",
     "text": [
      "+---------+----------+-------------+----------+-------------+-------------+-------------+-----------+--------------------+--------------------+\n",
      "| Contract|      Date|SportDuration|TVDuration|ChildDuration|RelaxDuration|MovieDuration|  MostWatch|          T7_Keyword|          T6_Keyword|\n",
      "+---------+----------+-------------+----------+-------------+-------------+-------------+-----------+--------------------+--------------------+\n",
      "|AGAAA0663|2022-04-01|         null|     89001|         null|         null|         null|Truyền Hình|               HAPPI|              bolero|\n",
      "|AGAAA1058|2022-04-01|         null|    118784|         null|         null|         null|Truyền Hình|vietnam next top ...|cậu mang à sĩ hanako|\n",
      "|AGAAA1238|2022-04-01|         null|    163158|         null|         null|         null|Truyền Hình| tình yêu từ 0 đến 1|liên minh công lý...|\n",
      "|AGAAA1572|2022-04-01|         null|     27309|         null|         null|         null|Truyền Hình|           phim thái|    việt nam vs appa|\n",
      "|AGAAA1727|2022-04-01|         null|      5898|         null|         null|         null|Truyền Hình|kẻ trộm mặt trăng...|nhất kiến khuynh tâm|\n",
      "|AGAAA3240|2022-04-01|         null|     46748|           71|         null|          140|Truyền Hình|              sở hữu|                giác|\n",
      "|AGAAA3322|2022-04-01|         null|     42844|         null|         null|         1410|Truyền Hình|          fairy tail|            nexsport|\n",
      "|AGAAA3368|2022-04-01|         null|     24735|         null|         null|         null|Truyền Hình|cảnh đẹp ngày vui...|Tìm kiếm bằng giọ...|\n",
      "|AGAAA3654|2022-04-01|         null|     53982|         null|         null|         null|Truyền Hình|boku no hero acad...|một mảnh băng tâm...|\n",
      "|AGAAA3659|2022-04-01|         null|     18210|         null|         null|         null|Truyền Hình|      prime provider|            sáng tạo|\n",
      "|AGD006240|2022-04-01|         null|    175415|           71|           97|           76|Truyền Hình|    fairy tail movie|            truc tep|\n",
      "|AGD009631|2022-04-01|         null|   1199573|         null|         null|         null|Truyền Hình|phim 15 năm chờ đ...|  ngôi nhà náo nhiệt|\n",
      "|AGD011360|2022-04-01|         null|     89584|         null|         null|         null|Truyền Hình|               v.i.p|           trực tiếp|\n",
      "|AGD013348|2022-04-01|         null|     17969|         null|         null|        61292|Phim Truyện|em là thành trì ...|truc tiep bong da...|\n",
      "|AGD017958|2022-04-01|         null|    770067|         null|         null|         null|Truyền Hình|            tế công |vn vs afghanistan...|\n",
      "|AGD017990|2022-04-01|         null|    379999|         null|         null|         null|Truyền Hình|   bằng chứng thép 3|             bóng đá|\n",
      "|AGD018666|2022-04-01|         null|    297233|         null|         null|         null|Truyền Hình|Tìm kiếm bằng giọ...|      tình yêu ấm áp|\n",
      "|AGD021091|2022-04-01|         null|   2065992|         null|         null|         null|Truyền Hình|bạn trai tôi là h...|  lưỡi gươm diệt quỷ|\n",
      "|AGD027503|2022-04-01|         null|    207172|         null|         null|         1490|Truyền Hình|sự trỗi dậy của k...|           kênh vtv6|\n",
      "|AGD027661|2022-04-01|         null|   1275745|         null|         null|         null|Truyền Hình|   bên nhau trọn đời|trực tiếp Việt Na...|\n",
      "+---------+----------+-------------+----------+-------------+-------------+-------------+-----------+--------------------+--------------------+\n",
      "only showing top 20 rows\n",
      "\n"
     ]
    }
   ],
   "source": [
    "df.show()"
   ]
  },
  {
   "cell_type": "code",
   "execution_count": 7,
   "metadata": {},
   "outputs": [],
   "source": [
    "df.write.format('jdbc').option('url',url).option('driver',driver).option('dbtable','customer_behaviour').option('user',user).option('password',password).mode('append').save()"
   ]
  },
  {
   "cell_type": "code",
   "execution_count": 14,
   "metadata": {},
   "outputs": [],
   "source": [
    "jdbcHostname = \"longth.database.windows.net\"\n",
    "jdbcDatabase = \"LongTH\"\n",
    "jdbcPort = \"1433\"\n",
    "username = \"student\"\n",
    "password = \"qazWSX123!@#\"\n",
    "jdbcUrl = \"jdbc:sqlserver://{0}:{1};database={2}\".format(jdbcHostname, jdbcPort, jdbcDatabase)\n",
    "\n",
    "connectionProperties = {\n",
    "\"user\" : username,\n",
    "\"password\" : password,\n",
    "\"driver\" : \"com.microsoft.sqlserver.jdbc.SQLServerDriver\"\n",
    "}\n",
    "\n",
    "pushdown_query = \"\"\"(SELECT * FROM SalesLT.DRM_Data) A\"\"\"\n",
    "\n",
    "df = spark.read.jdbc(url=jdbcUrl, table=pushdown_query, properties=connectionProperties)"
   ]
  },
  {
   "cell_type": "code",
   "execution_count": 15,
   "metadata": {},
   "outputs": [
    {
     "name": "stdout",
     "output_type": "stream",
     "text": [
      "+---------+----------+------------+\n",
      "|Total_Key|      Date|Service_Name|\n",
      "+---------+----------+------------+\n",
      "|       79|2019-08-02|         BHD|\n",
      "|     3513|2019-08-02|        Fim+|\n",
      "|     8816|2019-08-02|     PhimGoi|\n",
      "|       77|2019-08-03|         BHD|\n",
      "|     4039|2019-08-03|        Fim+|\n",
      "|     9294|2019-08-03|     PhimGoi|\n",
      "|       81|2019-08-04|         BHD|\n",
      "|     3963|2019-08-04|        Fim+|\n",
      "|     9460|2019-08-04|     PhimGoi|\n",
      "|       68|2019-08-05|         BHD|\n",
      "|     3194|2019-08-05|        Fim+|\n",
      "|     9541|2019-08-05|     PhimGoi|\n",
      "|       85|2019-08-06|         BHD|\n",
      "|     3541|2019-08-06|        Fim+|\n",
      "|     9793|2019-08-06|     PhimGoi|\n",
      "|       78|2019-08-07|         BHD|\n",
      "|     3441|2019-08-07|        Fim+|\n",
      "|    10958|2019-08-07|     PhimGoi|\n",
      "|       82|2019-08-08|         BHD|\n",
      "|     3566|2019-08-08|        Fim+|\n",
      "+---------+----------+------------+\n",
      "only showing top 20 rows\n",
      "\n"
     ]
    }
   ],
   "source": [
    "df.show()"
   ]
  },
  {
   "cell_type": "code",
   "execution_count": null,
   "metadata": {},
   "outputs": [],
   "source": [
    "#import os \n",
    "#os.environ['PYSPARK_SUBMIT_ARGS']='--packages com.microsoft.azure:spark-mssql-connector_2.12'"
   ]
  }
 ],
 "metadata": {
  "kernelspec": {
   "display_name": "Python 3",
   "language": "python",
   "name": "python3"
  },
  "language_info": {
   "codemirror_mode": {
    "name": "ipython",
    "version": 3
   },
   "file_extension": ".py",
   "mimetype": "text/x-python",
   "name": "python",
   "nbconvert_exporter": "python",
   "pygments_lexer": "ipython3",
   "version": "3.8.3"
  }
 },
 "nbformat": 4,
 "nbformat_minor": 4
}
