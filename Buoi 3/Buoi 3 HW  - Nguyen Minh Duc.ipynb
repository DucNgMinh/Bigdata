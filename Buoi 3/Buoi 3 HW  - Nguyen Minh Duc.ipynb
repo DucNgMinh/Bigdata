{
 "cells": [
  {
   "cell_type": "code",
   "execution_count": 4,
   "metadata": {},
   "outputs": [
    {
     "name": "stderr",
     "output_type": "stream",
     "text": [
      "C:\\Spark\\spark-3.4.0-bin-hadoop3\\python\\pyspark\\pandas\\__init__.py:50: UserWarning: 'PYARROW_IGNORE_TIMEZONE' environment variable was not set. It is required to set this environment variable to '1' in both driver and executor sides if you use pyarrow>=2.0.0. pandas-on-Spark will set it for you but it does not work if there is a Spark context already launched.\n",
      "  warnings.warn(\n"
     ]
    }
   ],
   "source": [
    "import findspark\n",
    "findspark.init()\n",
    "\n",
    "import pyspark\n",
    "import pandas as pd\n",
    "import numpy as np\n",
    "from pyspark.context import SparkContext\n",
    "from pyspark.sql import SparkSession\n",
    "from pyspark.sql.functions import *\n",
    "from pyspark.pandas import *"
   ]
  },
  {
   "cell_type": "code",
   "execution_count": 5,
   "metadata": {},
   "outputs": [],
   "source": [
    "spark = SparkSession.builder.config(\"spark.driver.memory\", \"8g\").getOrCreate()"
   ]
  },
  {
   "cell_type": "code",
   "execution_count": 6,
   "metadata": {},
   "outputs": [],
   "source": [
    "df = spark.read.json(path= r'C:\\Users\\ADMIN\\PycharmProjects\\Bigdata-1\\Data\\20230126\\data.json')"
   ]
  },
  {
   "cell_type": "code",
   "execution_count": 7,
   "metadata": {},
   "outputs": [
    {
     "name": "stdout",
     "output_type": "stream",
     "text": [
      "root\n",
      " |-- AppId: string (nullable = true)\n",
      " |-- Event: string (nullable = true)\n",
      " |-- ItemId: string (nullable = true)\n",
      " |-- ItemName: string (nullable = true)\n",
      " |-- device: string (nullable = true)\n",
      " |-- device_id: string (nullable = true)\n",
      " |-- device_name: string (nullable = true)\n",
      " |-- isp: string (nullable = true)\n",
      " |-- platform: string (nullable = true)\n",
      " |-- receive_time: string (nullable = true)\n",
      "\n"
     ]
    }
   ],
   "source": [
    "df.printSchema()"
   ]
  },
  {
   "cell_type": "code",
   "execution_count": 8,
   "metadata": {},
   "outputs": [
    {
     "name": "stdout",
     "output_type": "stream",
     "text": [
      "+--------------------+------------+--------------------+--------------------+--------------+--------------------+-----------------+-------+--------------------+-------------------+\n",
      "|               AppId|       Event|              ItemId|            ItemName|        device|           device_id|      device_name|    isp|            platform|       receive_time|\n",
      "+--------------------+------------+--------------------+--------------------+--------------+--------------------+-----------------+-------+--------------------+-------------------+\n",
      "|                IPTV|StartChannel|             vtv5-hd|             VTV5 HD|        BoxOTT|   D4:CF:F9:63:8C:23|        SEI500FPT|    fpt|fplay-ottbox-sei-...|2023-01-26T20:02:59|\n",
      "|                IPTV|StartChannel|             vtv5-hd|             VTV5 HD|        BoxOTT|   D4:CF:F9:63:6B:C0|        SEI500FPT|   vnpt|fplay-ottbox-sei-...|2023-01-26T20:02:59|\n",
      "|                IPTV|StartChannel|             vtv4-hd|             VTV4 HD|       SmartTV|       F5AYANSVAEPIF|     Samsung-2021|   vnpt|  smarttv-ss-nextgen|2023-01-26T20:02:59|\n",
      "|                IPTV|StartChannel|            fpt-play|            FPT Play|        BoxOTT|   10:39:4E:8A:17:7E|           FHRT2X|   vnpt|fplay-ottbox-hise...|2023-01-26T20:02:59|\n",
      "|                home|  StartMovie|635c92a0b92a03f3c...|Ai Cũng Biết Em Y...|        Mobile|    bf3b8fcf5ef5ddae|     OPPO CPH2179|    fpt|    Android - Normal|2023-01-26T20:02:59|\n",
      "|              SEARCH|   NextMovie|6269749f6aae0b0db...|      Kéo Cưa Lừa Xẻ|        BoxOTT|   10:39:4E:97:7B:FB|           FHRT2X|    fpt|fplay-ottbox-hise...|2023-01-26T20:02:59|\n",
      "|                home|PrviousMovie|6165b5fa2089bd010...|Cổ Tay Áo Màu Đỏ ...|        Mobile|5420110C-14B9-49F...|           iPhone|viettel|                 IOS|2023-01-26T20:02:59|\n",
      "|                IPTV|StartChannel|             vtv3-hd|             VTV3 HD|        BoxOTT|   D4:CF:F9:A1:49:73|        SEI500FPT|    fpt|fplay-ottbox-sei-...|2023-01-26T20:02:59|\n",
      "|              SEARCH|  StartMovie|623c219d29b211757...|   Hát Về Khủng Long|        BoxOTT|   10:39:4E:97:8C:4E|           FHRT2X|    fpt|fplay-ottbox-hise...|2023-01-26T20:03:00|\n",
      "|                IPTV|StartChannel|    blue-ant-extreme| Blue Ant Extreme HD|SmartTvAndroid|    127a51cf27e65414|       BRAVIA_VU2|    fpt|smarttv-sony-android|2023-01-26T20:03:00|\n",
      "|                    |  StartMovie|63cfd498ced33cab9...|Buông Tay Đi Đồ N...|        Mobile|    4c7dbe1b2f10af6a| Samsung SM-N770F|  other|    Android - Normal|2023-01-26T20:03:00|\n",
      "|               anime|   NextMovie|6059f8f02089bd0a7...|Học Viện Anh Hùng...|SmartTvAndroid|    3180ce8a5198446a|    vnptt_smb_v2x|   vnpt|     smart-tv-normal|2023-01-26T20:03:00|\n",
      "|                IPTV|StartChannel|      vinh-long-4-hd|      Vĩnh Long 4 HD|        BoxOTT|   D4:CF:F9:A1:0D:E4|        SEI500FPT|    fpt|fplay-ottbox-sei-...|2023-01-26T20:03:00|\n",
      "|                IPTV|StartChannel|             vtv5-hd|             VTV5 HD|SmartTvAndroid|    b9964ee0621dde60|           CASPER|   vnpt|     smart-tv-normal|2023-01-26T20:03:00|\n",
      "|                IPTV|StartChannel|             htv7-hd|             HTV7 HD|        BoxOTT|   10:39:4E:8E:6D:DC|           FHRT2X|    fpt|fplay-ottbox-hise...|2023-01-26T20:03:00|\n",
      "|                IPTV|StartChannel|vtv-hyundai-homes...|VTV Hyundai Homes...|        BoxOTT|   D4:CF:F9:A0:E5:64|        SEI500FPT|    fpt|fplay-ottbox-sei-...|2023-01-26T20:03:00|\n",
      "|                IPTV|StartChannel|             htv7-hd|             HTV7 HD|       SmartTV|       P3F2YPJFD7B6N|     Samsung-2020|   vnpt|  smarttv-ss-nextgen|2023-01-26T20:03:00|\n",
      "|                IPTV|StartChannel|         vinh-long-3|      Vĩnh Long 3 HD|       SmartTV|6a0ea8b2-eb17-be5...|         LG.WebOS|    fpt|  smarttv-lg-nextgen|2023-01-26T20:03:00|\n",
      "|                IPTV|StartChannel|              ha-nam|              Hà Nam|SmartTvAndroid|    8e4e18efcafa073e|           oneday|   vnpt|     smart-tv-normal|2023-01-26T20:03:00|\n",
      "|                IPTV|StartChannel|           hau-giang|           Hậu Giang|        BoxOTT|   D4:CF:F9:A0:8B:7A|        SEI500FPT|    fpt|fplay-ottbox-sei-...|2023-01-26T20:03:00|\n",
      "|                IPTV|StartChannel|             vtv1-hd|             VTV1 HD|       SmartTV|       PHB6X6RXI6NFN|     Samsung-2021|   vnpt|  smarttv-ss-nextgen|2023-01-26T20:03:00|\n",
      "|                IPTV|StartChannel|             htv7-hd|             HTV7 HD|SmartTvAndroid|    9639e7cdb243f083|    BRAVIA_VU1_UC|    fpt|smarttv-sony-android|2023-01-26T20:03:00|\n",
      "|                IPTV|StartChannel|  asian-food-channel|Asian Food Networ...|        BoxOTT|   D4:CF:F9:A1:05:14|        SEI500FPT|    fpt|fplay-ottbox-sei-...|2023-01-26T20:03:00|\n",
      "|                IPTV|StartChannel|      vinh-long-4-hd|      Vĩnh Long 4 HD|SmartTvAndroid|    dd25be8e192b5b65|   BRAVIA_ATV2_PA|viettel|smarttv-sony-android|2023-01-26T20:03:00|\n",
      "|                IPTV|StartChannel|             vtv3-hd|             VTV3 HD|        BoxOTT|   10:39:4E:97:75:40|           FHRT2X|    fpt|fplay-ottbox-hise...|2023-01-26T20:03:00|\n",
      "|                IPTV|StartChannel|      vinh-long-4-hd|      Vĩnh Long 4 HD|       SmartTV|       IXHFBZZEO22IP|     Samsung-2020|   vnpt|  smarttv-ss-nextgen|2023-01-26T20:03:00|\n",
      "|                IPTV|StartChannel|        todaytv-vtc7|                VTC7|        BoxOTT|   D4:CF:F9:93:76:C0|        SEI500FPT|    fpt|fplay-ottbox-sei-...|2023-01-26T20:03:00|\n",
      "|                IPTV|StartChannel|           dong-thap|           Đồng Tháp|       SmartTV|       J2DL5OM24HUO3|     Samsung-2021|    fpt|  smarttv-ss-nextgen|2023-01-26T20:03:00|\n",
      "|                IPTV|StartChannel|               thvl1|      Vĩnh Long 1 HD|        BoxOTT|   D4:CF:F9:4E:53:81|        SEI500FPT|   vnpt|fplay-ottbox-sei-...|2023-01-26T20:03:00|\n",
      "|                IPTV|StartChannel|               thvl1|      Vĩnh Long 1 HD|SmartTvAndroid|    72dacb3994d2fb39|           CASPER|   vnpt|     smart-tv-normal|2023-01-26T20:03:00|\n",
      "|                IPTV|StartChannel|             vtv3-hd|             VTV3 HD|        BoxOTT|   FC:D5:D9:79:47:25|FPT_Play_Box_Plus|viettel|fplay-ottbox-sdmc...|2023-01-26T20:03:00|\n",
      "|                IPTV|StartChannel|                vtc5|                VTC5|SmartTvAndroid|    e0881b4b01349922|    BRAVIA_VU1_UC|    fpt|smarttv-sony-android|2023-01-26T20:03:00|\n",
      "|                IPTV|StartChannel|                antv|             ANTV HD|        BoxOTT|   10:39:4E:98:22:EF|           FHRT2X|   vnpt|fplay-ottbox-hise...|2023-01-26T20:03:00|\n",
      "|                home|  StartMovie|63c8d7638140ed6b9...|Đường Về Nhà Xa Q...|        BoxOTT|   D4:CF:F9:A1:14:AA|        SEI500FPT|    fpt|fplay-ottbox-sei-...|2023-01-26T20:03:00|\n",
      "|                IPTV|StartChannel|               thvl1|      Vĩnh Long 1 HD|        BoxOTT|   D4:CF:F9:5D:0D:E3|        SEI500FPT|viettel|fplay-ottbox-sei-...|2023-01-26T20:03:00|\n",
      "|                IPTV|StartChannel|         vinh-long-3|      Vĩnh Long 3 HD|SmartTvAndroid|    cdbbe839ea3fa6ec|      PanasonicTV|viettel|     smart-tv-normal|2023-01-26T20:03:00|\n",
      "|                IPTV|StartChannel|             vtv5-hd|             VTV5 HD|        BoxOTT|   D4:CF:F9:A0:27:18|        SEI500FPT|    fpt|fplay-ottbox-sei-...|2023-01-26T20:03:00|\n",
      "|                IPTV|StartChannel|             vtv1-hd|             VTV1 HD|       SmartTV|bb7c124e-7391-5f5...|         LG.WebOS|  other|  smarttv-lg-nextgen|2023-01-26T20:03:01|\n",
      "|                IPTV|StartChannel|             vtv3-hd|             VTV3 HD|        BoxOTT|   D4:CF:F9:93:1A:AC|        SEI500FPT|    fpt|fplay-ottbox-sei-...|2023-01-26T20:03:01|\n",
      "|                IPTV|StartChannel|             vtv1-hd|             VTV1 HD|        BoxOTT|   10:39:4E:8A:68:EC|           FHRT2X|    fpt|fplay-ottbox-hise...|2023-01-26T20:03:01|\n",
      "|                IPTV|StartChannel|             vtv1-hd|             VTV1 HD|        BoxOTT|   D4:CF:F9:92:D5:48|        SEI500FPT|    fpt|fplay-ottbox-sei-...|2023-01-26T20:03:01|\n",
      "|                IPTV|StartChannel|             vtv3-hd|             VTV3 HD|        BoxOTT|   10:39:4E:8F:AD:1C|           FHRT2X|    fpt|fplay-ottbox-hise...|2023-01-26T20:03:01|\n",
      "|                IPTV|StartChannel|        binh-duong-2|     Bình Dương 2 HD|SmartTvAndroid|    803bf32af69c643a|    BRAVIA_VH1_PA|viettel|smarttv-sony-android|2023-01-26T20:03:01|\n",
      "|                home|  StartMovie|6296e64f2089bd053...|Tiếng Hát Khưu Hu...|        BoxOTT|   10:39:4E:96:EE:A2|           FHRT2X|    fpt|fplay-ottbox-hise...|2023-01-26T20:03:01|\n",
      "|                IPTV|StartChannel|         vinh-long-3|      Vĩnh Long 3 HD|SmartTvAndroid|    f17c57e4743878d2|       BRAVIA_VU2|    fpt|smarttv-sony-android|2023-01-26T20:03:01|\n",
      "|                IPTV|StartChannel|            vtc13-hd|            VTC13 HD|        BoxOTT|   D4:CF:F9:62:ED:E8|        SEI500FPT|   vnpt|fplay-ottbox-sei-...|2023-01-26T20:03:01|\n",
      "|                IPTV|StartChannel|             htv7-hd|             HTV7 HD|        BoxOTT|   10:39:4E:97:3F:0B|           FHRT2X|    fpt|fplay-ottbox-hise...|2023-01-26T20:03:01|\n",
      "|                IPTV|StartChannel|              fim360|               SCTV6|        BoxOTT|   D4:CF:F9:65:17:0D|        SEI610FPT|  other|fplay-ottbox-sei-...|2023-01-26T20:03:01|\n",
      "|                IPTV|StartChannel|             vtv2-hd|             VTV2 HD|        BoxOTT|   10:39:4E:97:63:02|           FHRT2X|    fpt|fplay-ottbox-hise...|2023-01-26T20:03:01|\n",
      "|                IPTV|StartChannel|             vtv3-hd|             VTV3 HD|       SmartTV|9205828b-cd90-f45...|         LG.WebOS|    fpt|  smarttv-lg-nextgen|2023-01-26T20:03:01|\n",
      "|                IPTV|StartChannel|      mien-tay-thdt2|      Miền Tây THĐT2|SmartTvAndroid|    b07b5b0e85ec1d59|         BeyondTV|    fpt| smarttv-tcl-android|2023-01-26T20:03:01|\n",
      "|                IPTV|StartChannel|             vtv3-hd|             VTV3 HD|        BoxOTT|   10:39:4E:97:96:F4|           FHRT2X|    fpt|fplay-ottbox-hise...|2023-01-26T20:03:01|\n",
      "|                IPTV|StartChannel|            lam-dong|            Lâm Đồng|SmartTvAndroid|    a7679fc304df0c52|         BeyondTV|viettel| smarttv-tcl-android|2023-01-26T20:03:01|\n",
      "|                 tet|  StartMovie|627a93312089bd013...|Nữ Myanmar - Nữ L...|SmartTvAndroid|    2ad8b759e36e4aa5|          tckiwfx|viettel|     smart-tv-normal|2023-01-26T20:03:02|\n",
      "|                IPTV|StartChannel|                 kpm|       K+ Sport 1 HD|        BoxOTT|   10:39:4E:8E:4C:FD|           FHRT2X|    fpt|fplay-ottbox-hise...|2023-01-26T20:03:02|\n",
      "|                IPTV|StartChannel|             vtv8-hd|             VTV8 HD|SmartTvAndroid|    7b3ce94800604241|         BeyondTV|    fpt| smarttv-tcl-android|2023-01-26T20:03:02|\n",
      "|                IPTV|StartChannel|             vtv4-hd|             VTV4 HD|        BoxOTT|   D4:CF:F9:63:25:A5|        SEI500FPT|  other|fplay-ottbox-sei-...|2023-01-26T20:03:02|\n",
      "|                IPTV|StartChannel|             vtv1-hd|             VTV1 HD|SmartTvAndroid|    7b42e5e3356e6ee7|        G03_4K_GB|viettel| smarttv-tcl-android|2023-01-26T20:03:02|\n",
      "|                IPTV|StartChannel|               thvl1|      Vĩnh Long 1 HD|       SmartTV|       I772SHWBTDCXX|     Samsung-2020|   vnpt|  smarttv-ss-nextgen|2023-01-26T20:03:02|\n",
      "|                IPTV|StartChannel|           discovery|Discovery Channel...|        BoxOTT|   D4:CF:F9:A1:3E:9B|        SEI500FPT|    fpt|fplay-ottbox-sei-...|2023-01-26T20:03:02|\n",
      "|                IPTV|StartChannel|que-huong-homesho...|Quê Hương Homesho...|        BoxOTT|   10:39:4E:97:AA:8C|           FHRT2X|    fpt|fplay-ottbox-hise...|2023-01-26T20:03:02|\n",
      "|                IPTV|StartChannel|      vinh-long-4-hd|      Vĩnh Long 4 HD|        BoxOTT|   D4:CF:F9:A1:15:5E|        SEI500FPT|    fpt|fplay-ottbox-sei-...|2023-01-26T20:03:02|\n",
      "|                IPTV|StartChannel|             vtv1-hd|             VTV1 HD|SmartTvAndroid|    ea31a72cb379055f|         BeyondTV|   vnpt| smarttv-tcl-android|2023-01-26T20:03:02|\n",
      "|                IPTV|StartChannel|               thvl1|      Vĩnh Long 1 HD|SmartTvAndroid|    889a9c3d9e7d812c|        C06_2K_GB|   vnpt| smarttv-tcl-android|2023-01-26T20:03:02|\n",
      "|                IPTV|StartChannel|           khanh-hoa|        Khánh Hòa HD|SmartTvAndroid|    fa5cf718fbbd1a56|BRAVIA_ATV3_4K_PA|    fpt|smarttv-sony-android|2023-01-26T20:03:02|\n",
      "|             channel|StartChannel|           dong-thap|           Đồng Tháp|        Mobile|    d03425b0f0f3735f| Samsung SM-G965F|viettel|    Android - Normal|2023-01-26T20:03:02|\n",
      "|                IPTV|StartChannel|             vtv1-hd|             VTV1 HD|SmartTvAndroid|    4fe64548c340a513|    BRAVIA_VU1_UC|viettel|smarttv-sony-android|2023-01-26T20:03:02|\n",
      "|                IPTV|StartChannel|   da-vinci-learning|         Da Vinci HD|        BoxOTT|   D4:CF:F9:A1:05:14|        SEI500FPT|    fpt|fplay-ottbox-sei-...|2023-01-26T20:03:02|\n",
      "|                IPTV|StartChannel|               thvl1|      Vĩnh Long 1 HD|       SmartTV|       KLU6QD3V2C32L|     Samsung-2020|viettel|  smarttv-ss-nextgen|2023-01-26T20:03:02|\n",
      "|                IPTV|StartChannel|          max-by-hbo|             Cinemax|        BoxOTT|   10:39:4E:8F:5C:25|           FHRT2X|viettel|fplay-ottbox-hise...|2023-01-26T20:03:02|\n",
      "|                home|  StartMovie|63cfd498ced33cab9...|Buông Tay Đi Đồ N...|        Mobile|1FE280A5-3712-4E4...|           iPhone|    fpt|                 IOS|2023-01-26T20:03:02|\n",
      "|                IPTV|StartChannel|             vtv5-hd|             VTV5 HD|SmartTvAndroid|    3f19b6d9f659ccdb|         KOODA_AP|    fpt|     smart-tv-normal|2023-01-26T20:03:02|\n",
      "|                IPTV|StartChannel|           vinh-phuc|           Vĩnh Phúc|SmartTvAndroid|    c11acf84d3236ff1|    BRAVIA_VH2_PA|viettel|smarttv-sony-android|2023-01-26T20:03:02|\n",
      "|                home|  StartMovie|63801ca52089bd023...|Mười Ngón Tay Tìn...|        BoxOTT|   D4:CF:F9:65:14:3B|        SEI610FPT|viettel|fplay-ottbox-sei-...|2023-01-26T20:03:03|\n",
      "|                IPTV|StartChannel|         vinh-long-3|      Vĩnh Long 3 HD|SmartTvAndroid|    01b9860f62a955a9|    BRAVIA_VU1_UC|   vnpt|smarttv-sony-android|2023-01-26T20:03:03|\n",
      "|                IPTV|StartChannel|       animal-planet|    Animal Planet HD|       SmartTV|4500ed0c-ab5c-e55...|         LG.WebOS|viettel|  smarttv-lg-nextgen|2023-01-26T20:03:03|\n",
      "|                IPTV|StartChannel|        binh-duong-2|     Bình Dương 2 HD|SmartTvAndroid|    acc7a165a4e3ac2b| BRAVIA_UR2_4K_PA|viettel|smarttv-sony-android|2023-01-26T20:03:03|\n",
      "|                IPTV|StartChannel|           dong-thap|           Đồng Tháp|       SmartTV|4741b146-9427-b45...|         LG.WebOS|   vnpt|  smarttv-lg-nextgen|2023-01-26T20:03:03|\n",
      "|5841452d17dc130a9...|  StartMovie|63bbe0dee8ef54584...|          Thần Bài 2|       SmartTV|       VRL3TZ6Y2DL35|     Samsung-2017|    fpt|  smarttv-ss-nextgen|2023-01-26T20:03:03|\n",
      "|                IPTV|StartChannel|                 kpm|       K+ Sport 1 HD|        BoxOTT|   10:39:4E:8E:E1:35|           FHRT2X|    fpt|fplay-ottbox-hise...|2023-01-26T20:03:03|\n",
      "|                IPTV|StartChannel|             vtv2-hd|             VTV2 HD|       SmartTV|       TNIZNY6PGXN7B|     Samsung-2021|    fpt|  smarttv-ss-nextgen|2023-01-26T20:03:03|\n",
      "|                IPTV|StartChannel|             vtv4-hd|             VTV4 HD|        BoxOTT|   D4:CF:F9:92:D5:30|        SEI500FPT|    fpt|fplay-ottbox-sei-...|2023-01-26T20:03:03|\n",
      "|                IPTV|StartChannel|    blue-ant-extreme| Blue Ant Extreme HD|        BoxOTT|   10:39:4E:97:91:A0|           FHRT2X|    fpt|fplay-ottbox-hise...|2023-01-26T20:03:03|\n",
      "|                IPTV|StartChannel|  htvc-thuan-viet-sd|     HTVC Thuần Việt|        BoxOTT|   D4:CF:F9:4E:3E:71|        SEI500FPT|    fpt|fplay-ottbox-sei-...|2023-01-26T20:03:04|\n",
      "|                IPTV|StartChannel|             vtv5-hd|             VTV5 HD|        BoxOTT|   D4:CF:F9:5E:55:88|        SEI500FPT|    fpt|fplay-ottbox-sei-...|2023-01-26T20:03:04|\n",
      "|                IPTV|StartChannel|             vtv3-hd|             VTV3 HD|        BoxOTT|   10:39:4E:8F:DE:AA|           FHRT2X|    fpt|fplay-ottbox-hise...|2023-01-26T20:03:04|\n",
      "|                IPTV|StartChannel|         vinh-long-2|      Vĩnh Long 2 HD|        BoxOTT|   D4:CF:F9:65:23:DB|        SEI610FPT|viettel|fplay-ottbox-sei-...|2023-01-26T20:03:04|\n",
      "|                    |   NextMovie|6343cdc07c1f4e33f...|Công Chúa Ngổ Ngá...|        Mobile|    fd6135379a55ad58|     OPPO CPH2407|   vnpt|    Android - Normal|2023-01-26T20:03:04|\n",
      "|                IPTV|StartChannel|            hoa-binh|            Hòa Bình|        BoxOTT|   D4:CF:F9:92:EB:25|        SEI500FPT|    fpt|fplay-ottbox-sei-...|2023-01-26T20:03:04|\n",
      "|                IPTV|StartChannel|             vtv2-hd|             VTV2 HD|        BoxOTT|   10:39:4E:8F:6C:EC|           FHRT2X|    fpt|fplay-ottbox-hise...|2023-01-26T20:03:04|\n",
      "|                IPTV|StartChannel|             vtv7-hd|             VTV7 HD|        BoxOTT|   10:39:4E:8E:AB:A3|           FHRT2X|    fpt|fplay-ottbox-hise...|2023-01-26T20:03:04|\n",
      "|                home|   NextMovie|6165b5fa2089bd010...|Cổ Tay Áo Màu Đỏ ...|        Mobile|5420110C-14B9-49F...|           iPhone|viettel|                 IOS|2023-01-26T20:03:04|\n",
      "|                IPTV|StartChannel|             vtv5-hd|             VTV5 HD|        BoxOTT|   10:39:4E:8E:7A:1A|           FHRT2X|    fpt|fplay-ottbox-hise...|2023-01-26T20:03:04|\n",
      "|                IPTV|StartChannel|          dong-nai-2|       Đồng Nai 2 HD|SmartTvAndroid|    e9fd0d7592e23c00|      PanasonicTV|   vnpt|     smart-tv-normal|2023-01-26T20:03:04|\n",
      "|                home|  StartMovie|63cfd498ced33cab9...|Buông Tay Đi Đồ N...|SmartTvAndroid|    462cd803431d53ce|           ampere|   vnpt|     smart-tv-normal|2023-01-26T20:03:04|\n",
      "|                IPTV|StartChannel|             yen-bai|          Yên Bái HD|       SmartTV|a57b863a-195b-715...|         LG.WebOS|   vnpt|  smarttv-lg-nextgen|2023-01-26T20:03:04|\n",
      "|                IPTV|StartChannel|               thvl1|      Vĩnh Long 1 HD|        BoxOTT|   D4:CF:F9:63:24:CA|        SEI500FPT|   vnpt|fplay-ottbox-sei-...|2023-01-26T20:03:04|\n",
      "|                IPTV|StartChannel|                 cnn|                 CNN|SmartTvAndroid|    d226f3f33d3ac10a| BRAVIA_UR2_4K_PA|viettel|smarttv-sony-android|2023-01-26T20:03:04|\n",
      "|                IPTV|StartChannel|         vtv-can-tho|         VTV Cần Thơ|        BoxOTT|   D4:CF:F9:63:71:5C|        SEI500FPT|   vnpt|fplay-ottbox-sei-...|2023-01-26T20:03:04|\n",
      "|                IPTV|StartChannel|               thvl1|      Vĩnh Long 1 HD|SmartTvAndroid|    c64451c6ea1f76ac|    BRAVIA_VH2_PA|  other|smarttv-sony-android|2023-01-26T20:03:04|\n",
      "+--------------------+------------+--------------------+--------------------+--------------+--------------------+-----------------+-------+--------------------+-------------------+\n",
      "only showing top 100 rows\n",
      "\n"
     ]
    }
   ],
   "source": [
    "df.show(100)"
   ]
  },
  {
   "cell_type": "code",
   "execution_count": 9,
   "metadata": {},
   "outputs": [
    {
     "name": "stdout",
     "output_type": "stream",
     "text": [
      "+--------------+------+\n",
      "|      ItemName| count|\n",
      "+--------------+------+\n",
      "|       VTV1 HD|520679|\n",
      "|       VTV3 HD|267147|\n",
      "|Vĩnh Long 1 HD|179205|\n",
      "|Vĩnh Long 3 HD|109937|\n",
      "|       VTV2 HD|108524|\n",
      "|Vĩnh Long 2 HD|103970|\n",
      "|       VTV5 HD| 97282|\n",
      "|   VTV Cần Thơ| 93693|\n",
      "|       VTV4 HD| 77537|\n",
      "|     Đồng Tháp| 74146|\n",
      "+--------------+------+\n",
      "only showing top 10 rows\n",
      "\n"
     ]
    }
   ],
   "source": [
    "# Top 10 kênh truyền hình được xem nhiều nhất\n",
    "df[df['AppID'] == 'IPTV'].groupBy('ItemName').count().orderBy('count', ascending= False).show(10)"
   ]
  },
  {
   "cell_type": "code",
   "execution_count": 10,
   "metadata": {},
   "outputs": [
    {
     "name": "stdout",
     "output_type": "stream",
     "text": [
      "+--------------------+-----+\n",
      "|            ItemName|count|\n",
      "+--------------------+-----+\n",
      "|     Hướng Gió Mà Đi| 2474|\n",
      "|    Vẻ Đẹp Đích Thực| 2474|\n",
      "|     Tinh Hà Xán Lạn| 1804|\n",
      "|Thử Thách Thần Tượng| 1545|\n",
      "|Bạn Trai Tôi Là H...| 1483|\n",
      "|Khanh Khanh Nhật ...| 1247|\n",
      "|Kết Hôn Rồi Bắt Đ...| 1244|\n",
      "|  Lưỡi Gươm Diệt Quỷ| 1147|\n",
      "|Cuộc Chiến Thượng...|  965|\n",
      "|         Hội Pháp Sư|  956|\n",
      "+--------------------+-----+\n",
      "only showing top 10 rows\n",
      "\n"
     ]
    }
   ],
   "source": [
    "# Top 10 content được search nhiều nhất\n",
    "df[df['AppID'] == 'SEARCH'].groupBy('ItemName').count().orderBy('count', ascending= False).show(10)"
   ]
  },
  {
   "cell_type": "code",
   "execution_count": 11,
   "metadata": {},
   "outputs": [
    {
     "name": "stdout",
     "output_type": "stream",
     "text": [
      "+--------------------+-----+\n",
      "|            ItemName|count|\n",
      "+--------------------+-----+\n",
      "|     Hướng Gió Mà Đi|28867|\n",
      "|Khanh Khanh Nhật ...|15879|\n",
      "|    Hạ Cuối Tình Đầu|14484|\n",
      "|     Tinh Hà Xán Lạn|12372|\n",
      "|             VTV1 HD|11146|\n",
      "|    Vẻ Đẹp Đích Thực| 9981|\n",
      "|Buông Tay Đi Đồ N...| 8646|\n",
      "|    Sứ Giả Thần Chết| 8411|\n",
      "|Định Luật 80/20 C...| 8046|\n",
      "|Học Viện Anh Hùng...| 7933|\n",
      "+--------------------+-----+\n",
      "only showing top 10 rows\n",
      "\n"
     ]
    }
   ],
   "source": [
    "# Top 10 content được sử dụng không thông qua IPTV\n",
    "df[df['AppID'] != 'IPTV'].groupBy('ItemName').count().orderBy('count', ascending= False).show(10)"
   ]
  },
  {
   "cell_type": "code",
   "execution_count": 12,
   "metadata": {},
   "outputs": [
    {
     "name": "stdout",
     "output_type": "stream",
     "text": [
      "+--------------+-------+\n",
      "|        device|  count|\n",
      "+--------------+-------+\n",
      "|        BoxOTT|1982586|\n",
      "|SmartTvAndroid|1073534|\n",
      "|       SmartTV| 837684|\n",
      "|        Mobile| 354321|\n",
      "|         WebOS|  42658|\n",
      "+--------------+-------+\n",
      "\n"
     ]
    }
   ],
   "source": [
    "df.groupBy('device').count().orderBy('count', ascending= False).show(10)"
   ]
  },
  {
   "cell_type": "code",
   "execution_count": 13,
   "metadata": {},
   "outputs": [
    {
     "name": "stdout",
     "output_type": "stream",
     "text": [
      "+--------------+----------------+\n",
      "|      ItemName|count(device_id)|\n",
      "+--------------+----------------+\n",
      "|       VTV1 HD|          179468|\n",
      "|       VTV3 HD|           94095|\n",
      "|Vĩnh Long 1 HD|           69167|\n",
      "|       VTV2 HD|           44605|\n",
      "|      FPT Play|           40862|\n",
      "|       VTV5 HD|           40850|\n",
      "|Vĩnh Long 3 HD|           39638|\n",
      "|   VTV Cần Thơ|           39312|\n",
      "|Vĩnh Long 2 HD|           38760|\n",
      "|       VTV4 HD|           31885|\n",
      "+--------------+----------------+\n",
      "only showing top 10 rows\n",
      "\n"
     ]
    }
   ],
   "source": [
    "df.groupBy('ItemName').agg(countDistinct('device_id')).orderBy('count(device_id)', ascending= False).show(10)"
   ]
  },
  {
   "cell_type": "code",
   "execution_count": 23,
   "metadata": {},
   "outputs": [
    {
     "name": "stdout",
     "output_type": "stream",
     "text": [
      "+--------------+----------------+\n",
      "|      ItemName|count(device_id)|\n",
      "+--------------+----------------+\n",
      "|       VTV1 HD|          531825|\n",
      "|       VTV3 HD|          268745|\n",
      "|Vĩnh Long 1 HD|          184151|\n",
      "|Vĩnh Long 3 HD|          112323|\n",
      "|       VTV2 HD|          108974|\n",
      "|Vĩnh Long 2 HD|          106044|\n",
      "|       VTV5 HD|           97625|\n",
      "|   VTV Cần Thơ|           94002|\n",
      "|       VTV4 HD|           77748|\n",
      "|     Đồng Tháp|           75924|\n",
      "+--------------+----------------+\n",
      "only showing top 10 rows\n",
      "\n"
     ]
    }
   ],
   "source": [
    "df.groupBy('ItemName').agg(count('device_id')).orderBy('count(device_id)', ascending= False).show(10)"
   ]
  },
  {
   "cell_type": "code",
   "execution_count": 14,
   "metadata": {},
   "outputs": [
    {
     "name": "stdout",
     "output_type": "stream",
     "text": [
      "+------+------------+--------------------+--------------------+--------------+--------------------+------------+-------+--------------------+-------------------+----+----------+\n",
      "| AppId|       Event|              ItemId|            ItemName|        device|           device_id| device_name|    isp|            platform|       receive_time|Hour|      Date|\n",
      "+------+------------+--------------------+--------------------+--------------+--------------------+------------+-------+--------------------+-------------------+----+----------+\n",
      "|  IPTV|StartChannel|             vtv5-hd|             VTV5 HD|        BoxOTT|   D4:CF:F9:63:8C:23|   SEI500FPT|    fpt|fplay-ottbox-sei-...|2023-01-26T20:02:59|  20|2023-01-26|\n",
      "|  IPTV|StartChannel|             vtv5-hd|             VTV5 HD|        BoxOTT|   D4:CF:F9:63:6B:C0|   SEI500FPT|   vnpt|fplay-ottbox-sei-...|2023-01-26T20:02:59|  20|2023-01-26|\n",
      "|  IPTV|StartChannel|             vtv4-hd|             VTV4 HD|       SmartTV|       F5AYANSVAEPIF|Samsung-2021|   vnpt|  smarttv-ss-nextgen|2023-01-26T20:02:59|  20|2023-01-26|\n",
      "|  IPTV|StartChannel|            fpt-play|            FPT Play|        BoxOTT|   10:39:4E:8A:17:7E|      FHRT2X|   vnpt|fplay-ottbox-hise...|2023-01-26T20:02:59|  20|2023-01-26|\n",
      "|  home|  StartMovie|635c92a0b92a03f3c...|Ai Cũng Biết Em Y...|        Mobile|    bf3b8fcf5ef5ddae|OPPO CPH2179|    fpt|    Android - Normal|2023-01-26T20:02:59|  20|2023-01-26|\n",
      "|SEARCH|   NextMovie|6269749f6aae0b0db...|      Kéo Cưa Lừa Xẻ|        BoxOTT|   10:39:4E:97:7B:FB|      FHRT2X|    fpt|fplay-ottbox-hise...|2023-01-26T20:02:59|  20|2023-01-26|\n",
      "|  home|PrviousMovie|6165b5fa2089bd010...|Cổ Tay Áo Màu Đỏ ...|        Mobile|5420110C-14B9-49F...|      iPhone|viettel|                 IOS|2023-01-26T20:02:59|  20|2023-01-26|\n",
      "|  IPTV|StartChannel|             vtv3-hd|             VTV3 HD|        BoxOTT|   D4:CF:F9:A1:49:73|   SEI500FPT|    fpt|fplay-ottbox-sei-...|2023-01-26T20:02:59|  20|2023-01-26|\n",
      "|SEARCH|  StartMovie|623c219d29b211757...|   Hát Về Khủng Long|        BoxOTT|   10:39:4E:97:8C:4E|      FHRT2X|    fpt|fplay-ottbox-hise...|2023-01-26T20:03:00|  20|2023-01-26|\n",
      "|  IPTV|StartChannel|    blue-ant-extreme| Blue Ant Extreme HD|SmartTvAndroid|    127a51cf27e65414|  BRAVIA_VU2|    fpt|smarttv-sony-android|2023-01-26T20:03:00|  20|2023-01-26|\n",
      "+------+------------+--------------------+--------------------+--------------+--------------------+------------+-------+--------------------+-------------------+----+----------+\n",
      "only showing top 10 rows\n",
      "\n"
     ]
    }
   ],
   "source": [
    "df = df.withColumn(\"Hour\", hour('receive_time'))\n",
    "df = df.withColumn(\"Date\", to_date('receive_time'))\n",
    "df.show(10)"
   ]
  },
  {
   "cell_type": "code",
   "execution_count": 15,
   "metadata": {},
   "outputs": [
    {
     "name": "stdout",
     "output_type": "stream",
     "text": [
      "+----+------+\n",
      "|Hour| count|\n",
      "+----+------+\n",
      "|  20|444152|\n",
      "|  19|397408|\n",
      "|  18|359391|\n",
      "|  21|348988|\n",
      "|  17|262650|\n",
      "|  16|224279|\n",
      "|  11|220327|\n",
      "|  10|216520|\n",
      "|  12|198117|\n",
      "|  15|192053|\n",
      "+----+------+\n",
      "only showing top 10 rows\n",
      "\n"
     ]
    }
   ],
   "source": [
    "time_usage_behaviour = df.groupBy('Hour').count().orderBy('count', ascending= False)\n",
    "time_usage_behaviour.show(10)"
   ]
  },
  {
   "cell_type": "code",
   "execution_count": 21,
   "metadata": {},
   "outputs": [],
   "source": [
    "test = df.groupBy(['Date', 'Hour', 'device', 'device_name', 'platform',  'AppID', 'ItemName']).agg(count('device_id').alias('Total_log'),\n",
    "                                                                                                    countDistinct('device_id').alias('Total_devices'))"
   ]
  },
  {
   "cell_type": "code",
   "execution_count": 42,
   "metadata": {},
   "outputs": [],
   "source": [
    "test1 = df.groupBy(['device', 'device_name', 'platform',  'AppID', 'ItemName']).agg(count('device_id').alias('Total_log'),\n",
    "                                                                                    countDistinct('device_id').alias('Total_devices'),\n",
    "                                                                                    first('Date').alias('Date'), \n",
    "                                                                                    first('Hour').alias('Hour'))"
   ]
  },
  {
   "cell_type": "code",
   "execution_count": 22,
   "metadata": {},
   "outputs": [
    {
     "name": "stdout",
     "output_type": "stream",
     "text": [
      "(629033, 9)\n"
     ]
    }
   ],
   "source": [
    "print((test.count(), len(test.columns)))"
   ]
  },
  {
   "cell_type": "code",
   "execution_count": 28,
   "metadata": {},
   "outputs": [
    {
     "name": "stdout",
     "output_type": "stream",
     "text": [
      "(226269, 9)\n"
     ]
    }
   ],
   "source": [
    "print((test1.count(), len(test1.columns)))"
   ]
  },
  {
   "cell_type": "code",
   "execution_count": 25,
   "metadata": {},
   "outputs": [
    {
     "name": "stdout",
     "output_type": "stream",
     "text": [
      "+----------+----+--------------+--------------+--------------------+--------+--------------------+---------+-------------+\n",
      "|      Date|Hour|        device|   device_name|            platform|   AppID|            ItemName|Total_log|Total_devices|\n",
      "+----------+----+--------------+--------------+--------------------+--------+--------------------+---------+-------------+\n",
      "|2023-01-26|  19|        BoxOTT|        FHRT2X|fplay-ottbox-hise...|    IPTV|     HTVC Thuần Việt|       70|           60|\n",
      "|2023-01-26|  20|       SmartTV|  Samsung-2020|  smarttv-ss-nextgen|    IPTV|       K+ Sport 1 HD|      112|           87|\n",
      "|2023-01-26|  20|        BoxOTT|     SEI500FPT|fplay-ottbox-sei-...|    IPTV|         Bạc Liêu HD|      228|          193|\n",
      "|2023-01-26|  20|SmartTvAndroid|    BRAVIA_VU3|smarttv-sony-android|    IPTV|            Hà Giang|       17|           14|\n",
      "|2023-01-26|  20|SmartTvAndroid| BRAVIA_UR3_PA|smarttv-sony-android|    IPTV|             VTV3 HD|      259|          171|\n",
      "|2023-01-26|  18|       SmartTV|      LG.WebOS|  smarttv-lg-nextgen|    IPTV|             HTV9 HD|      467|          368|\n",
      "|2023-01-26|  19|SmartTvAndroid|HP4013-Viettel|     smart-tv-normal|    IPTV|       K+ Sport 2 HD|        6|            3|\n",
      "|2023-01-26|  19|       SmartTV|      LG.WebOS|  smarttv-lg-nextgen|children|Paw Patrol - Phi ...|        1|            1|\n",
      "|2023-01-26|  20|SmartTvAndroid|      BeyondTV| smarttv-tcl-android|    IPTV|        Đà Nẵng 1 HD|       27|           18|\n",
      "|2023-01-26|  18|       SmartTV|      LG.WebOS|  smarttv-lg-nextgen|    IPTV|         VTV Cần Thơ|      254|          218|\n",
      "+----------+----+--------------+--------------+--------------------+--------+--------------------+---------+-------------+\n",
      "only showing top 10 rows\n",
      "\n"
     ]
    }
   ],
   "source": [
    "test.show(10)"
   ]
  },
  {
   "cell_type": "code",
   "execution_count": 37,
   "metadata": {},
   "outputs": [
    {
     "name": "stdout",
     "output_type": "stream",
     "text": [
      "+----------+----+--------------+-------------+--------------------+-----+--------+---------+-------------+\n",
      "|      Date|Hour|        device|  device_name|            platform|AppID|ItemName|Total_log|Total_devices|\n",
      "+----------+----+--------------+-------------+--------------------+-----+--------+---------+-------------+\n",
      "|2023-01-26|   0|SmartTvAndroid|BRAVIA_UR3_PA|smarttv-sony-android| IPTV| VTV3 HD|        7|            6|\n",
      "+----------+----+--------------+-------------+--------------------+-----+--------+---------+-------------+\n",
      "\n"
     ]
    }
   ],
   "source": [
    "test[(test['ItemName'] == 'VTV3 HD') & (test['device_name'] == 'BRAVIA_UR3_PA') & (test['Hour'] == 0)].show(100)"
   ]
  },
  {
   "cell_type": "code",
   "execution_count": 38,
   "metadata": {},
   "outputs": [
    {
     "name": "stdout",
     "output_type": "stream",
     "text": [
      "+-----+------------+-------+--------+--------------+----------------+-------------+-------+--------------------+-------------------+----+----------+\n",
      "|AppId|       Event| ItemId|ItemName|        device|       device_id|  device_name|    isp|            platform|       receive_time|Hour|      Date|\n",
      "+-----+------------+-------+--------+--------------+----------------+-------------+-------+--------------------+-------------------+----+----------+\n",
      "| IPTV|StartChannel|vtv3-hd| VTV3 HD|SmartTvAndroid|e1e732beec9f1beb|BRAVIA_UR3_PA|viettel|smarttv-sony-android|2023-01-26T00:03:57|   0|2023-01-26|\n",
      "| IPTV|StartChannel|vtv3-hd| VTV3 HD|SmartTvAndroid|974031629808f7c5|BRAVIA_UR3_PA|viettel|smarttv-sony-android|2023-01-26T00:08:01|   0|2023-01-26|\n",
      "| IPTV|StartChannel|vtv3-hd| VTV3 HD|SmartTvAndroid|fcb8553b1345fcf1|BRAVIA_UR3_PA|    fpt|smarttv-sony-android|2023-01-26T00:20:10|   0|2023-01-26|\n",
      "| IPTV|StartChannel|vtv3-hd| VTV3 HD|SmartTvAndroid|8e0807bd4d850033|BRAVIA_UR3_PA|   vnpt|smarttv-sony-android|2023-01-26T00:24:53|   0|2023-01-26|\n",
      "| IPTV|StartChannel|vtv3-hd| VTV3 HD|SmartTvAndroid|974031629808f7c5|BRAVIA_UR3_PA|viettel|smarttv-sony-android|2023-01-26T00:07:57|   0|2023-01-26|\n",
      "| IPTV|StartChannel|vtv3-hd| VTV3 HD|SmartTvAndroid|5402ade9c4abaca5|BRAVIA_UR3_PA|    fpt|smarttv-sony-android|2023-01-26T00:31:14|   0|2023-01-26|\n",
      "| IPTV|StartChannel|vtv3-hd| VTV3 HD|SmartTvAndroid|a751a738eee8b8f6|BRAVIA_UR3_PA|   vnpt|smarttv-sony-android|2023-01-26T00:30:41|   0|2023-01-26|\n",
      "+-----+------------+-------+--------+--------------+----------------+-------------+-------+--------------------+-------------------+----+----------+\n",
      "\n"
     ]
    }
   ],
   "source": [
    "df[(df['ItemName'] == 'VTV3 HD') & (df['device_name'] == 'BRAVIA_UR3_PA') & (df['Hour'] == 0) ].show(100)"
   ]
  },
  {
   "cell_type": "code",
   "execution_count": 43,
   "metadata": {},
   "outputs": [
    {
     "name": "stdout",
     "output_type": "stream",
     "text": [
      "+------+-----------+--------+-----+--------+---------+-------------+----+----+\n",
      "|device|device_name|platform|AppID|ItemName|Total_log|Total_devices|Date|Hour|\n",
      "+------+-----------+--------+-----+--------+---------+-------------+----+----+\n",
      "+------+-----------+--------+-----+--------+---------+-------------+----+----+\n",
      "\n"
     ]
    }
   ],
   "source": [
    "test1[(test1['ItemName'] == 'VTV3 HD') & (test1['device_name'] == 'BRAVIA_UR3_PA') & (test1['Hour'] == 0)].show(10)\n"
   ]
  }
 ],
 "metadata": {
  "kernelspec": {
   "display_name": "base",
   "language": "python",
   "name": "python3"
  },
  "language_info": {
   "codemirror_mode": {
    "name": "ipython",
    "version": 3
   },
   "file_extension": ".py",
   "mimetype": "text/x-python",
   "name": "python",
   "nbconvert_exporter": "python",
   "pygments_lexer": "ipython3",
   "version": "3.10.9"
  },
  "orig_nbformat": 4
 },
 "nbformat": 4,
 "nbformat_minor": 2
}
